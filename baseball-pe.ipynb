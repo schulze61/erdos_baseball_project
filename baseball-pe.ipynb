{
 "cells": [
  {
   "cell_type": "markdown",
   "id": "f99ea003",
   "metadata": {},
   "source": [
    "# Baseball Prediction and Pythagorean expectations\n",
    "\n",
    "\n"
   ]
  },
  {
   "cell_type": "code",
   "execution_count": 1,
   "id": "42ba2965",
   "metadata": {},
   "outputs": [],
   "source": [
    "%load_ext autoreload\n",
    "%autoreload 2"
   ]
  },
  {
   "cell_type": "code",
   "execution_count": 2,
   "id": "2befc34c",
   "metadata": {},
   "outputs": [],
   "source": [
    "import random\n",
    "import numpy as np\n",
    "import pandas as pd\n",
    "import matplotlib.pyplot as plt\n",
    "import seaborn as sns\n",
    "from scipy.special import gamma, factorial\n",
    "from datetime import datetime\n",
    "import statsmodels.api as sm\n",
    "import statistics\n",
    "import time\n",
    "import pemod as pe\n"
   ]
  },
  {
   "cell_type": "code",
   "execution_count": 41,
   "id": "ced4e7fc",
   "metadata": {},
   "outputs": [],
   "source": [
    "# parameters\n",
    "n_sim      = 10         # number of simulations \n",
    "pe_exp     = 1.83        # exponent to compute PE\n",
    "shape      = 1.83        # common shape parameter of the Weibull dist.\n",
    "pe_method  = \"basic\"     # {basic, davenport, smyth}\n",
    "tol_method = 2           # {1, 2}: 1(2) is without(with) intercept\n",
    "sim_method = \"basic\"      # {\"basic\", \"bayes\", \"opp\", \"both\"}: bayesian updating for scale param; include opponent strength \n",
    "opp_param  = 0.25        # reduction in scale param. associated with a strong opponent\n",
    "rs_0       = 4           # expected runs in week 1\n",
    "\n"
   ]
  },
  {
   "cell_type": "code",
   "execution_count": 27,
   "id": "d6a30eb9",
   "metadata": {},
   "outputs": [],
   "source": [
    "# set tolerance parameters \n",
    "season_data = pe.data_read(2010)\n",
    "tol_prm, bs = pe.params(season_data, pe_exp, shape, rs_0, method = tol_method)\n",
    "eps1 = np.round(np.mean(tol_prm[\"eps_1\"]), 4)\n",
    "eps2 = np.round(np.mean(tol_prm[\"eps_2\"]), 4)\n"
   ]
  },
  {
   "cell_type": "code",
   "execution_count": null,
   "id": "fedad205",
   "metadata": {},
   "outputs": [
    {
     "name": "stdout",
     "output_type": "stream",
     "text": [
      "Year:   2010\n",
      "Year:   2011\n",
      "Year:   2012\n",
      "Year:   2013\n"
     ]
    }
   ],
   "source": [
    "sim_method = \"bayes\"     # {\"basic\", \"bayes\", \"opp\", \"both\"}: bayesian updating for scale param; include opponent strength \n",
    "n_sim      = 400         # number of simulations \n",
    "b_score = pd.Series(index = range(2010, 2023))\n",
    "\n",
    "start = time.time()\n",
    "\n",
    "for year in range(2010, 2023):\n",
    "    print(\"Year:  \", year)\n",
    "    season_data = pe.data_read(year)\n",
    "    \n",
    "    # bayesian updating\n",
    "    pr1, scale_bayes = pe.params(season_data, pe_exp, shape, rs_0)\n",
    "       \n",
    "    # simulate \n",
    "    sim_g, rej = pe.season_sim(season_data, scale_bayes, n_sim, eps1, eps2, shape, pe_method, sim_method, opp_param)\n",
    "    \n",
    "    # prediction\n",
    "    pred = pd.Series(sim_g[sim_g[\"res(team_1)\"]==1][\"prob\"].sum(), index = season_data.index)\n",
    "    \n",
    "    # Brier Score\n",
    "    b_score[year] = pe.bscore(pred, season_data[\"team1_win\"])\n",
    "    \n",
    "\n",
    "finish = time.time()\n",
    "\n",
    "print(\"run time:\", (finish-start)/60, \"minutes.\" )"
   ]
  },
  {
   "cell_type": "code",
   "execution_count": 73,
   "id": "8e757319",
   "metadata": {},
   "outputs": [
    {
     "data": {
      "text/plain": [
       "2010    0.261416\n",
       "2011    0.249930\n",
       "2012    0.272324\n",
       "2013    0.254336\n",
       "2014    0.250061\n",
       "2015    0.250731\n",
       "2016    0.252316\n",
       "2017    0.250023\n",
       "2018    0.253777\n",
       "2019    0.251127\n",
       "2020    0.265294\n",
       "2021    0.267390\n",
       "2022    0.252172\n",
       "dtype: float64"
      ]
     },
     "execution_count": 73,
     "metadata": {},
     "output_type": "execute_result"
    }
   ],
   "source": [
    "b_score"
   ]
  },
  {
   "cell_type": "code",
   "execution_count": 75,
   "id": "df317e94",
   "metadata": {},
   "outputs": [
    {
     "data": {
      "text/plain": [
       "2010    0.249845\n",
       "2011    0.261775\n",
       "2012    0.253583\n",
       "2013    0.251021\n",
       "2014    0.252589\n",
       "2015    0.253121\n",
       "2016    0.252217\n",
       "2017    0.263120\n",
       "2018    0.263062\n",
       "2019    0.250162\n",
       "2020    0.271692\n",
       "2021    0.274271\n",
       "2022    0.251531\n",
       "dtype: float64"
      ]
     },
     "execution_count": 75,
     "metadata": {},
     "output_type": "execute_result"
    }
   ],
   "source": [
    "b_score"
   ]
  },
  {
   "cell_type": "code",
   "execution_count": 57,
   "id": "137de486",
   "metadata": {},
   "outputs": [
    {
     "data": {
      "text/plain": [
       "[<matplotlib.lines.Line2D at 0x16b5a093810>]"
      ]
     },
     "execution_count": 57,
     "metadata": {},
     "output_type": "execute_result"
    },
    {
     "data": {
      "image/png": "[encoded data removed]",
      "text/plain": [
       "<Figure size 640x480 with 1 Axes>"
      ]
     },
     "metadata": {},
     "output_type": "display_data"
    }
   ],
   "source": [
    "plt.plot(b_score)"
   ]
  },
  {
   "cell_type": "code",
   "execution_count": null,
   "id": "d9908fbc",
   "metadata": {},
   "outputs": [],
   "source": []
  },
  {
   "cell_type": "code",
   "execution_count": null,
   "id": "0d5af227",
   "metadata": {},
   "outputs": [],
   "source": []
  }
 ],
 "metadata": {
  "kernelspec": {
   "display_name": "Python 3 (ipykernel)",
   "language": "python",
   "name": "python3"
  },
  "language_info": {
   "codemirror_mode": {
    "name": "ipython",
    "version": 3
   },
   "file_extension": ".py",
   "mimetype": "text/x-python",
   "name": "python",
   "nbconvert_exporter": "python",
   "pygments_lexer": "ipython3",
   "version": "3.11.5"
  }
 },
 "nbformat": 4,
 "nbformat_minor": 5
}
