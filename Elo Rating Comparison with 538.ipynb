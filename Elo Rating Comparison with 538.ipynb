{
 "cells": [
  {
   "cell_type": "markdown",
   "id": "e9afc5e4",
   "metadata": {},
   "source": [
    "The goal of this notebook is to see what the accuracy of 538s ELO model for MLB baseball. We have taken the data from https://github.com/fivethirtyeight/data/tree/master/mlb-elo where they give a csv file that has their win percentages. \n",
    "\n",
    "One thing we could do is compare their win percentages with our win percentages (as they all tend to be around 50%), but we will also see if we just predict the winner as the team with the higher win percentage, what the prediction accuracy of this model will be (and we can compare that to our model)"
   ]
  },
  {
   "cell_type": "code",
   "execution_count": 67,
   "id": "908c2797",
   "metadata": {},
   "outputs": [],
   "source": [
    "##Import of packages that we will use \n",
    "import pandas as pd\n",
    "import numpy as np\n",
    "import math\n",
    "from CalScore import cal_brier_score\n",
    "import matplotlib.pyplot as plt"
   ]
  },
  {
   "cell_type": "markdown",
   "id": "3beffda1",
   "metadata": {},
   "source": [
    "We start by getting the data from the csv file, and putting it into a data frame"
   ]
  },
  {
   "cell_type": "code",
   "execution_count": 68,
   "id": "098b55d9",
   "metadata": {},
   "outputs": [],
   "source": [
    "##Read data from 538 csv file as Elo_data\n",
    "Elo_data = pd.read_csv(\"./mlb_elo_data/mlb_elo.csv\")"
   ]
  },
  {
   "cell_type": "markdown",
   "id": "9ee4582f",
   "metadata": {},
   "source": [
    "We shall take a quick look at the head of the data"
   ]
  },
  {
   "cell_type": "code",
   "execution_count": 69,
   "id": "ce4cf7fa",
   "metadata": {},
   "outputs": [
    {
     "data": {
      "text/html": [
       "<div>\n",
       "<style scoped>\n",
       "    .dataframe tbody tr th:only-of-type {\n",
       "        vertical-align: middle;\n",
       "    }\n",
       "\n",
       "    .dataframe tbody tr th {\n",
       "        vertical-align: top;\n",
       "    }\n",
       "\n",
       "    .dataframe thead th {\n",
       "        text-align: right;\n",
       "    }\n",
       "</style>\n",
       "<table border=\"1\" class=\"dataframe\">\n",
       "  <thead>\n",
       "    <tr style=\"text-align: right;\">\n",
       "      <th></th>\n",
       "      <th>date</th>\n",
       "      <th>season</th>\n",
       "      <th>neutral</th>\n",
       "      <th>playoff</th>\n",
       "      <th>team1</th>\n",
       "      <th>team2</th>\n",
       "      <th>elo1_pre</th>\n",
       "      <th>elo2_pre</th>\n",
       "      <th>elo_prob1</th>\n",
       "      <th>elo_prob2</th>\n",
       "      <th>...</th>\n",
       "      <th>pitcher1_rgs</th>\n",
       "      <th>pitcher2_rgs</th>\n",
       "      <th>pitcher1_adj</th>\n",
       "      <th>pitcher2_adj</th>\n",
       "      <th>rating_prob1</th>\n",
       "      <th>rating_prob2</th>\n",
       "      <th>rating1_post</th>\n",
       "      <th>rating2_post</th>\n",
       "      <th>score1</th>\n",
       "      <th>score2</th>\n",
       "    </tr>\n",
       "  </thead>\n",
       "  <tbody>\n",
       "    <tr>\n",
       "      <th>0</th>\n",
       "      <td>2023-10-01</td>\n",
       "      <td>2023</td>\n",
       "      <td>0</td>\n",
       "      <td>NaN</td>\n",
       "      <td>STL</td>\n",
       "      <td>CIN</td>\n",
       "      <td>1499.567587</td>\n",
       "      <td>1485.123367</td>\n",
       "      <td>0.555101</td>\n",
       "      <td>0.444899</td>\n",
       "      <td>...</td>\n",
       "      <td>NaN</td>\n",
       "      <td>NaN</td>\n",
       "      <td>NaN</td>\n",
       "      <td>NaN</td>\n",
       "      <td>0.575820</td>\n",
       "      <td>0.424180</td>\n",
       "      <td>NaN</td>\n",
       "      <td>NaN</td>\n",
       "      <td>NaN</td>\n",
       "      <td>NaN</td>\n",
       "    </tr>\n",
       "    <tr>\n",
       "      <th>1</th>\n",
       "      <td>2023-10-01</td>\n",
       "      <td>2023</td>\n",
       "      <td>0</td>\n",
       "      <td>NaN</td>\n",
       "      <td>SEA</td>\n",
       "      <td>TEX</td>\n",
       "      <td>1516.277991</td>\n",
       "      <td>1535.226359</td>\n",
       "      <td>0.507269</td>\n",
       "      <td>0.492731</td>\n",
       "      <td>...</td>\n",
       "      <td>NaN</td>\n",
       "      <td>NaN</td>\n",
       "      <td>NaN</td>\n",
       "      <td>NaN</td>\n",
       "      <td>0.504610</td>\n",
       "      <td>0.495390</td>\n",
       "      <td>NaN</td>\n",
       "      <td>NaN</td>\n",
       "      <td>NaN</td>\n",
       "      <td>NaN</td>\n",
       "    </tr>\n",
       "    <tr>\n",
       "      <th>2</th>\n",
       "      <td>2023-10-01</td>\n",
       "      <td>2023</td>\n",
       "      <td>0</td>\n",
       "      <td>NaN</td>\n",
       "      <td>NYM</td>\n",
       "      <td>PHI</td>\n",
       "      <td>1506.248367</td>\n",
       "      <td>1523.132153</td>\n",
       "      <td>0.510240</td>\n",
       "      <td>0.489760</td>\n",
       "      <td>...</td>\n",
       "      <td>NaN</td>\n",
       "      <td>NaN</td>\n",
       "      <td>NaN</td>\n",
       "      <td>NaN</td>\n",
       "      <td>0.538668</td>\n",
       "      <td>0.461332</td>\n",
       "      <td>NaN</td>\n",
       "      <td>NaN</td>\n",
       "      <td>NaN</td>\n",
       "      <td>NaN</td>\n",
       "    </tr>\n",
       "    <tr>\n",
       "      <th>3</th>\n",
       "      <td>2023-10-01</td>\n",
       "      <td>2023</td>\n",
       "      <td>0</td>\n",
       "      <td>NaN</td>\n",
       "      <td>MIL</td>\n",
       "      <td>CHC</td>\n",
       "      <td>1502.093612</td>\n",
       "      <td>1498.788921</td>\n",
       "      <td>0.539214</td>\n",
       "      <td>0.460786</td>\n",
       "      <td>...</td>\n",
       "      <td>NaN</td>\n",
       "      <td>NaN</td>\n",
       "      <td>NaN</td>\n",
       "      <td>NaN</td>\n",
       "      <td>0.557476</td>\n",
       "      <td>0.442524</td>\n",
       "      <td>NaN</td>\n",
       "      <td>NaN</td>\n",
       "      <td>NaN</td>\n",
       "      <td>NaN</td>\n",
       "    </tr>\n",
       "    <tr>\n",
       "      <th>4</th>\n",
       "      <td>2023-10-01</td>\n",
       "      <td>2023</td>\n",
       "      <td>0</td>\n",
       "      <td>NaN</td>\n",
       "      <td>KCR</td>\n",
       "      <td>NYY</td>\n",
       "      <td>1423.429777</td>\n",
       "      <td>1541.893168</td>\n",
       "      <td>0.367310</td>\n",
       "      <td>0.632690</td>\n",
       "      <td>...</td>\n",
       "      <td>NaN</td>\n",
       "      <td>NaN</td>\n",
       "      <td>NaN</td>\n",
       "      <td>NaN</td>\n",
       "      <td>0.347503</td>\n",
       "      <td>0.652497</td>\n",
       "      <td>NaN</td>\n",
       "      <td>NaN</td>\n",
       "      <td>NaN</td>\n",
       "      <td>NaN</td>\n",
       "    </tr>\n",
       "  </tbody>\n",
       "</table>\n",
       "<p>5 rows × 26 columns</p>\n",
       "</div>"
      ],
      "text/plain": [
       "         date  season  neutral playoff team1 team2     elo1_pre     elo2_pre  \\\n",
       "0  2023-10-01    2023        0     NaN   STL   CIN  1499.567587  1485.123367   \n",
       "1  2023-10-01    2023        0     NaN   SEA   TEX  1516.277991  1535.226359   \n",
       "2  2023-10-01    2023        0     NaN   NYM   PHI  1506.248367  1523.132153   \n",
       "3  2023-10-01    2023        0     NaN   MIL   CHC  1502.093612  1498.788921   \n",
       "4  2023-10-01    2023        0     NaN   KCR   NYY  1423.429777  1541.893168   \n",
       "\n",
       "   elo_prob1  elo_prob2  ...  pitcher1_rgs  pitcher2_rgs  pitcher1_adj  \\\n",
       "0   0.555101   0.444899  ...           NaN           NaN           NaN   \n",
       "1   0.507269   0.492731  ...           NaN           NaN           NaN   \n",
       "2   0.510240   0.489760  ...           NaN           NaN           NaN   \n",
       "3   0.539214   0.460786  ...           NaN           NaN           NaN   \n",
       "4   0.367310   0.632690  ...           NaN           NaN           NaN   \n",
       "\n",
       "   pitcher2_adj rating_prob1 rating_prob2  rating1_post  rating2_post  score1  \\\n",
       "0           NaN     0.575820     0.424180           NaN           NaN     NaN   \n",
       "1           NaN     0.504610     0.495390           NaN           NaN     NaN   \n",
       "2           NaN     0.538668     0.461332           NaN           NaN     NaN   \n",
       "3           NaN     0.557476     0.442524           NaN           NaN     NaN   \n",
       "4           NaN     0.347503     0.652497           NaN           NaN     NaN   \n",
       "\n",
       "   score2  \n",
       "0     NaN  \n",
       "1     NaN  \n",
       "2     NaN  \n",
       "3     NaN  \n",
       "4     NaN  \n",
       "\n",
       "[5 rows x 26 columns]"
      ]
     },
     "execution_count": 69,
     "metadata": {},
     "output_type": "execute_result"
    }
   ],
   "source": [
    "Elo_data.head()"
   ]
  },
  {
   "cell_type": "markdown",
   "id": "d4fa2f15",
   "metadata": {},
   "source": [
    "For simplicity we shall just focus on the year 2010 as that is the year I had just tested for my model, but in general we can pick any year. "
   ]
  },
  {
   "cell_type": "code",
   "execution_count": 70,
   "id": "229bd238",
   "metadata": {},
   "outputs": [
    {
     "name": "stdout",
     "output_type": "stream",
     "text": [
      "The prediction accuracy is given by 0.5536149471974005\n"
     ]
    }
   ],
   "source": [
    "#Picks the year we are interested in\n",
    "year = 2010\n",
    "#create a dataframe for the data coming from that year\n",
    "year_data = Elo_data.loc[Elo_data.season == year]\n",
    "#adds a column of a prediction coming from the win percentage expectations\n",
    "year_data.insert(len(year_data.T),\"prediction\", (year_data[\"rating_prob1\"].values>.5)*1)\n",
    "#adds a column of the actual win coming from the scores\n",
    "year_data.insert(len(year_data.T),\"actual\", (year_data[\"score1\"].values>year_data[\"score2\"])*1)\n",
    "#adds a column of whether or not the prediction was correct\n",
    "year_data.insert(len(year_data.T),\"prediction_correct\", (year_data[\"prediction\"].values == year_data[\"actual\"])*1)\n",
    "#Print out what the accuracy of the prediction is given by\n",
    "print(\"The prediction accuracy is given by \" + str(year_data.prediction_correct.sum()/len(year_data)))"
   ]
  },
  {
   "cell_type": "markdown",
   "id": "2e6948b2",
   "metadata": {},
   "source": [
    "Now we rewrite the following code as a function, and we will iterate over the years 2010-2022"
   ]
  },
  {
   "cell_type": "code",
   "execution_count": 71,
   "id": "439468bc",
   "metadata": {},
   "outputs": [],
   "source": [
    "def get_averages (Elo_data):\n",
    "    for year in range(2010,2023):\n",
    "        #create a dataframe for the data coming from that year\n",
    "        year_data = Elo_data.loc[Elo_data.season == year]\n",
    "        #adds a column of a prediction coming from the win percentage expectations\n",
    "        year_data.insert(len(year_data.T),\"prediction\", (year_data[\"rating_prob1\"].values>.5)*1)\n",
    "        #adds a column of the actual win coming from the scores\n",
    "        year_data.insert(len(year_data.T),\"actual\", (year_data[\"score1\"].values>year_data[\"score2\"])*1)\n",
    "        #adds a column of whether or not the prediction was correct\n",
    "        year_data.insert(len(year_data.T),\"prediction_correct\", (year_data[\"prediction\"].values == year_data[\"actual\"])*1)\n",
    "        #Print out what the accuracy of the prediction is given by\n",
    "        print(\"The prediction accuracy is given by \" + str(year_data.prediction_correct.sum()/len(year_data)))"
   ]
  },
  {
   "cell_type": "markdown",
   "id": "503d9c5f",
   "metadata": {},
   "source": [
    "## Below are the comparisons of benchmark methods from 2010 to 2022 using Brier score\n",
    "### Method 1: 538 probability only based on Elo. \n",
    "### Method 2: 538 probability based on Elo and other factors (pitcher). \n",
    "### Method 3: If (probability in method 1)$>0.5$, then predict win, otherwise predict lose.\n",
    "### Method 4: Naive home advantage model: Predict home team is always winning with probability p=0.5568\n",
    "### (TO DO): Our model using Pythagorean expectation\n",
    "### You can add any model for testing purpose."
   ]
  },
  {
   "cell_type": "code",
   "execution_count": 72,
   "id": "60c4daf2",
   "metadata": {},
   "outputs": [],
   "source": [
    "## Initialize the score for benchmark methods\n",
    "years = np.arange(2010, 2023)\n",
    "num_methods = 4\n",
    "scores = np.zeros((num_methods, len(years)))\n",
    "\n",
    "## Calculate scores for benchmark methods each year\n",
    "for i in range(len(years)):\n",
    "    year_data = Elo_data.loc[Elo_data.season == years[i]]\n",
    "    actual_result = ((year_data[\"score1\"]>year_data[\"score2\"])*1).to_numpy()\n",
    "    \n",
    "    # Method 1\n",
    "    scores[0, i] = cal_brier_score(year_data[\"elo_prob1\"].to_numpy(), actual_result)\n",
    "    \n",
    "    # Method 2\n",
    "    scores[1, i] = cal_brier_score(year_data[\"rating_prob1\"].to_numpy(), actual_result)\n",
    "    \n",
    "    # Method 3\n",
    "    scores[2, i] = cal_brier_score(((year_data[\"rating_prob1\"]>.5)*1).to_numpy(), actual_result)\n",
    "    \n",
    "    # Method 4\n",
    "    p = 0.5568\n",
    "    scores[3, i] = cal_brier_score(p*np.ones(len(actual_result)), actual_result)"
   ]
  },
  {
   "cell_type": "code",
   "execution_count": 89,
   "id": "183b0cc8",
   "metadata": {},
   "outputs": [
    {
     "data": {
      "image/png": "[encoded data removed]",
      "text/plain": [
       "<Figure size 720x432 with 1 Axes>"
      ]
     },
     "metadata": {
      "needs_background": "light"
     },
     "output_type": "display_data"
    },
    {
     "data": {
      "text/plain": [
       "<Figure size 1440x864 with 0 Axes>"
      ]
     },
     "metadata": {},
     "output_type": "display_data"
    }
   ],
   "source": [
    "# Labels of methods\n",
    "name_lines = ['Elo', '538Rating', 'Elo predict', 'Home advantage']\n",
    "\n",
    "# Plot score data\n",
    "plt.title('Comparison')\n",
    "for i in range(num_methods):\n",
    "    plt.plot(years, scores[i, :], label = name_lines[i])\n",
    "plt.legend()\n",
    "plt.xlabel('Year')\n",
    "plt.ylabel('Score')\n",
    "plt.figure(figsize=(20,12))\n",
    "plt.rcParams['figure.figsize'] = [10, 6]\n",
    "plt.show()"
   ]
  },
  {
   "cell_type": "code",
   "execution_count": null,
   "id": "ed1a2acb",
   "metadata": {},
   "outputs": [],
   "source": []
  }
 ],
 "metadata": {
  "kernelspec": {
   "display_name": "Python 3 (ipykernel)",
   "language": "python",
   "name": "python3"
  },
  "language_info": {
   "codemirror_mode": {
    "name": "ipython",
    "version": 3
   },
   "file_extension": ".py",
   "mimetype": "text/x-python",
   "name": "python",
   "nbconvert_exporter": "python",
   "pygments_lexer": "ipython3",
   "version": "3.9.12"
  }
 },
 "nbformat": 4,
 "nbformat_minor": 5
}
