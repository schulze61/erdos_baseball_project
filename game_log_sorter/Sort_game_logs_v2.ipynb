{
 "cells": [
  {
   "cell_type": "code",
   "execution_count": 17,
   "id": "32dd9290",
   "metadata": {},
   "outputs": [],
   "source": [
    "import pandas as pd\n",
    "import numpy as np\n",
    "import matplotlib.pyplot as plt\n",
    "import scipy.stats as sp"
   ]
  },
  {
   "cell_type": "code",
   "execution_count": 18,
   "id": "e8457fcf",
   "metadata": {},
   "outputs": [],
   "source": [
    "year_range = [2010, 2022]"
   ]
  },
  {
   "cell_type": "code",
   "execution_count": 28,
   "id": "f19b5dba",
   "metadata": {},
   "outputs": [
    {
     "data": {
      "text/plain": [
       "array([2010, 2011, 2012, 2013, 2014, 2015, 2016, 2017, 2018, 2019, 2020,\n",
       "       2021, 2022])"
      ]
     },
     "execution_count": 28,
     "metadata": {},
     "output_type": "execute_result"
    }
   ],
   "source": [
    "years"
   ]
  },
  {
   "cell_type": "code",
   "execution_count": 41,
   "id": "82ec59d9",
   "metadata": {},
   "outputs": [],
   "source": [
    "years = np.arange(year_range[0], year_range[1]+1)\n",
    "\n",
    "for year in years:\n",
    "    df2 = pd.DataFrame({})\n",
    "    fname = 'gl'+str(year)\n",
    "    fpath = './unsorted_game_logs/' + fname + '.txt'\n",
    "    colind = np.arange(0, 11)\n",
    "    colind = np.append(colind, np.array([21, 22, 49, 50]))\n",
    "    colnames =  ['Date', 'Ngame', 'DOW', 'VT', 'VTL', 'VTGN', 'HT', 'HTL', 'HTGN', 'VTS', 'HTS', \n",
    "                 'VT_at_bats', 'VT_hits', 'HT_at_bats', 'HT_hits']\n",
    "    gl = pd.read_csv(fpath, usecols = colind, names = colnames, index_col = False)\n",
    "    teams = np.unique(gl['HT'])\n",
    "    df1 = pd.DataFrame({})\n",
    "\n",
    "    for team in teams:\n",
    "        \n",
    "        #Get stats for away games\n",
    "        ind = np.where((gl['VT'] == team))[0]\n",
    "        opponent = gl['HT'].iloc[ind]\n",
    "        date = gl['Date'].iloc[ind]\n",
    "        runs_scored = gl['VTS'].iloc[ind]\n",
    "        runs_allowed = gl['HTS'].iloc[ind]\n",
    "        game_num = gl['VTGN'].iloc[ind]\n",
    "        at_bats = gl['VT_at_bats'].iloc[ind]\n",
    "        hits = gl['VT_hits'].iloc[ind]\n",
    "        opponent_at_bats = gl['HT_at_bats'].iloc[ind]\n",
    "        opponent_hits = gl['HT_hits'].iloc[ind]\n",
    "        \n",
    "        #stats for home games\n",
    "        ind = np.where((gl['HT'] == team))[0]\n",
    "        opponent = np.append(opponent, gl['VT'].iloc[ind])\n",
    "        date = np.append(date, gl['Date'].iloc[ind])\n",
    "        runs_scored = np.append(runs_scored, gl['HTS'].iloc[ind])\n",
    "        runs_allowed = np.append(runs_allowed, gl['VTS'].iloc[ind])\n",
    "        game_num = np.append(game_num, gl['HTGN'].iloc[ind])\n",
    "        at_bats = np.append(at_bats, gl['HT_at_bats'].iloc[ind])\n",
    "        hits = np.append(hits, gl['HT_hits'].iloc[ind])\n",
    "        opponent_at_bats = np.append(opponent_at_bats, gl['VT_at_bats'].iloc[ind])\n",
    "        opponent_hits = np.append(opponent_hits, gl['VT_hits'].iloc[ind])\n",
    "        \n",
    "    \n",
    "        df1 = pd.DataFrame({'Date': date, 'team': [team]*len(date), 'opponent': opponent, 'runs_scored': runs_scored, \n",
    "                            'runs_allowed': runs_allowed, 'game_number': game_num, 'at_bats': at_bats, 'hits': hits,\n",
    "                           'opponent_at_bats': opponent_at_bats, 'opponent_hits': opponent_hits})\n",
    "        \n",
    "        df1 = df1.sort_values(by = ['game_number'])\n",
    "        df1['win_loss'] = np.zeros(len(df1))\n",
    "        \n",
    "        df1 = df1.reset_index()\n",
    "        \n",
    "        ind = np.where(df1['runs_scored'] > df1['runs_allowed'])[0]\n",
    "        df1.loc[ind, 'win_loss'] = np.ones(len(ind))\n",
    "        \n",
    "        win_frac_actual = np.array([])\n",
    "        win_frac_cummulative_pythagorean = np.array([])\n",
    "        win_frac_single_pythagorean = np.array([])\n",
    "        win_frac_cummulative_pythagenpat = np.array([])\n",
    "        win_frac_single_pythagenpat = np.array([])\n",
    "\n",
    "        win_frac_act = np.zeros(len(df1))\n",
    "        win_frac_cum_pyth = np.zeros(len(df1))\n",
    "        win_frac_single_pyth = np.zeros(len(df1))\n",
    "        exponent = np.zeros(len(df1))\n",
    "        win_frac_cum_pat = np.zeros(len(df1))\n",
    "        win_frac_single_pat = np.zeros(len(df1))        \n",
    "        \n",
    "        \n",
    "        for i in range(0, len(df1)):\n",
    "            win_frac_cum_pyth[i] = (sum(df1['runs_scored'].iloc[:i+1])**2)/((sum(df1['runs_scored'].iloc[:i+1])**2) + (sum(df1['runs_allowed'].iloc[:i+1])**2))\n",
    "            win_frac_single_pyth[i] = (df1['runs_scored'].iloc[i]**2)/((df1['runs_scored'].iloc[i]**2) + (df1['runs_allowed'].iloc[i]**2))\n",
    "\n",
    "            win_frac_act[i] = sum(df1['win_loss'].iloc[:i+1])/len(df1[:i+1])\n",
    "            exponent = ((sum(df1['runs_scored'].iloc[:i+1]) + sum(df1['runs_allowed'].iloc[:i+1]))/sum(df1['game_number'].iloc[:i+1]))**0.287\n",
    "            win_frac_cum_pat[i] = (sum(df1['runs_scored'].iloc[:i+1])**exponent)/((sum(df1['runs_scored'].iloc[:i+1])**exponent) + (sum(df1['runs_allowed'].iloc[:i+1])**exponent))\n",
    "            exponent = ((df1['runs_scored'].iloc[i] + df1['runs_allowed'].iloc[i])/df1['game_number'].iloc[i])**0.287\n",
    "            win_frac_single_pat[i] = (df1['runs_scored'].iloc[i]**exponent)/((df1['runs_scored'].iloc[i]**exponent) + (df1['runs_allowed'].iloc[i]**exponent))\n",
    "            \n",
    "\n",
    "        win_frac_actual = np.append(win_frac_actual, win_frac_act)\n",
    "        win_frac_cummulative_pythagorean = np.append(win_frac_cummulative_pythagorean, win_frac_cum_pyth)\n",
    "        win_frac_single_pythagorean = np.append(win_frac_single_pythagorean, win_frac_single_pyth)\n",
    "        win_frac_cummulative_pythagenpat = np.append(win_frac_cummulative_pythagenpat, win_frac_cum_pat)\n",
    "        win_frac_single_pythagenpat = np.append(win_frac_single_pythagenpat, win_frac_single_pat)       \n",
    "        \n",
    "        \n",
    "        df1['win_frac_actual'] = win_frac_actual\n",
    "        df1['win_frac_cummulative_pythagorean'] = win_frac_cummulative_pythagorean\n",
    "        df1['win_frac_cummulative_pythagenpat'] = win_frac_cummulative_pythagenpat        \n",
    "        \n",
    "        df2 = pd.concat([df2, df1], axis = 0)\n",
    "        \n",
    "    save_file = './sorted_game_logs/' + fname + '_sorted.csv'\n",
    "    df2.to_csv(save_file, index = False)"
   ]
  },
  {
   "cell_type": "code",
   "execution_count": 37,
   "id": "d4aa728a",
   "metadata": {},
   "outputs": [
    {
     "data": {
      "text/plain": [
       "array([  0,   5,   8,  10,  11,  12,  13,  14,  17,  19,  20,  22,  30,\n",
       "        31,  33,  36,  37,  38,  41,  42,  44,  47,  48,  50,  51,  52,\n",
       "        54,  55,  56,  57,  58,  59,  61,  63,  64,  65,  68,  69,  70,\n",
       "        72,  73,  76,  77,  78,  80,  83,  88,  91,  92,  93,  95,  99,\n",
       "       104, 106, 110, 111, 113, 114, 115, 117, 121, 123, 127, 131, 133,\n",
       "       136, 139, 140, 141, 142, 144, 146, 148, 149, 150, 155, 156, 157,\n",
       "       159, 161], dtype=int64)"
      ]
     },
     "execution_count": 37,
     "metadata": {},
     "output_type": "execute_result"
    }
   ],
   "source": [
    "ind"
   ]
  },
  {
   "cell_type": "code",
   "execution_count": null,
   "id": "623abd65",
   "metadata": {},
   "outputs": [],
   "source": []
  }
 ],
 "metadata": {
  "kernelspec": {
   "display_name": "Python 3 (ipykernel)",
   "language": "python",
   "name": "python3"
  },
  "language_info": {
   "codemirror_mode": {
    "name": "ipython",
    "version": 3
   },
   "file_extension": ".py",
   "mimetype": "text/x-python",
   "name": "python",
   "nbconvert_exporter": "python",
   "pygments_lexer": "ipython3",
   "version": "3.9.12"
  }
 },
 "nbformat": 4,
 "nbformat_minor": 5
}
